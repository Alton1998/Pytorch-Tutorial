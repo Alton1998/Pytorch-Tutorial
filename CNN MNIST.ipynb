{
 "cells": [
  {
   "cell_type": "code",
   "execution_count": 1,
   "id": "805e5345",
   "metadata": {},
   "outputs": [],
   "source": [
    "import torch\n",
    "import torch.nn as nn\n",
    "import torch.nn.functional as F\n",
    "from torch.utils.data import DataLoader\n",
    "from torchvision import datasets, transforms\n",
    "from torchvision.utils import make_grid\n",
    "\n",
    "import numpy as np\n",
    "import pandas as pd\n",
    "from sklearn.metrics import confusion_matrix\n",
    "import matplotlib.pyplot as plt\n",
    "%matplotlib inline"
   ]
  },
  {
   "cell_type": "code",
   "execution_count": 2,
   "id": "696228f1",
   "metadata": {},
   "outputs": [],
   "source": [
    "transform = transforms.ToTensor()\n",
    "\n",
    "train_data = datasets.MNIST(root='./data', train=True, download=True, transform=transform)\n",
    "test_data = datasets.MNIST(root='./data', train=False, download=True, transform=transform)"
   ]
  },
  {
   "cell_type": "code",
   "execution_count": 3,
   "id": "81ea72ba",
   "metadata": {},
   "outputs": [
    {
     "data": {
      "text/plain": [
       "Dataset MNIST\n",
       "    Number of datapoints: 60000\n",
       "    Root location: ./data\n",
       "    Split: Train\n",
       "    StandardTransform\n",
       "Transform: ToTensor()"
      ]
     },
     "execution_count": 3,
     "metadata": {},
     "output_type": "execute_result"
    }
   ],
   "source": [
    "train_data"
   ]
  },
  {
   "cell_type": "code",
   "execution_count": 4,
   "id": "3c4e837a",
   "metadata": {},
   "outputs": [
    {
     "data": {
      "text/plain": [
       "Dataset MNIST\n",
       "    Number of datapoints: 10000\n",
       "    Root location: ./data\n",
       "    Split: Test\n",
       "    StandardTransform\n",
       "Transform: ToTensor()"
      ]
     },
     "execution_count": 4,
     "metadata": {},
     "output_type": "execute_result"
    }
   ],
   "source": [
    "test_data"
   ]
  },
  {
   "cell_type": "code",
   "execution_count": 5,
   "id": "864b9132",
   "metadata": {},
   "outputs": [],
   "source": [
    "train_loader = DataLoader(train_data, batch_size=10, shuffle=True)\n",
    "test_loader = DataLoader(test_data, batch_size=10, shuffle=False)"
   ]
  },
  {
   "cell_type": "code",
   "execution_count": 6,
   "id": "3592fb67",
   "metadata": {},
   "outputs": [],
   "source": [
    "conv1 = nn.Conv2d(1, 6, 3, 1)\n",
    "conv2 = nn.Conv2d(6, 16, 3, 1)"
   ]
  },
  {
   "cell_type": "code",
   "execution_count": 7,
   "id": "01a5873d",
   "metadata": {},
   "outputs": [],
   "source": [
    "for i, (X_train, y_train) in enumerate(train_data):\n",
    "    break"
   ]
  },
  {
   "cell_type": "code",
   "execution_count": 8,
   "id": "973d5600",
   "metadata": {},
   "outputs": [
    {
     "name": "stdout",
     "output_type": "stream",
     "text": [
      "torch.Size([1, 1, 28, 28])\n"
     ]
    }
   ],
   "source": [
    "x = X_train.view(1,1,28,28)\n",
    "print(x.shape)"
   ]
  },
  {
   "cell_type": "code",
   "execution_count": 9,
   "id": "bed36725",
   "metadata": {},
   "outputs": [
    {
     "name": "stdout",
     "output_type": "stream",
     "text": [
      "torch.Size([1, 6, 26, 26])\n"
     ]
    }
   ],
   "source": [
    "x = F.relu(conv1(x))\n",
    "print(x.shape)"
   ]
  },
  {
   "cell_type": "code",
   "execution_count": 10,
   "id": "753e074f",
   "metadata": {},
   "outputs": [
    {
     "name": "stdout",
     "output_type": "stream",
     "text": [
      "torch.Size([1, 6, 13, 13])\n"
     ]
    }
   ],
   "source": [
    "x = F.max_pool2d(x, 2, 2)\n",
    "print(x.shape)"
   ]
  },
  {
   "cell_type": "code",
   "execution_count": 11,
   "id": "b71c5b64",
   "metadata": {},
   "outputs": [
    {
     "name": "stdout",
     "output_type": "stream",
     "text": [
      "torch.Size([1, 16, 11, 11])\n"
     ]
    }
   ],
   "source": [
    "x = F.relu(conv2(x))\n",
    "print(x.shape)"
   ]
  },
  {
   "cell_type": "code",
   "execution_count": 12,
   "id": "a6b92bea",
   "metadata": {},
   "outputs": [
    {
     "name": "stdout",
     "output_type": "stream",
     "text": [
      "torch.Size([1, 16, 5, 5])\n"
     ]
    }
   ],
   "source": [
    "x = F.max_pool2d(x, 2, 2)\n",
    "print(x.shape)"
   ]
  },
  {
   "cell_type": "code",
   "execution_count": 13,
   "id": "b1870e56",
   "metadata": {},
   "outputs": [
    {
     "name": "stdout",
     "output_type": "stream",
     "text": [
      "torch.Size([1, 400])\n"
     ]
    }
   ],
   "source": [
    "x = x.view(-1, 5*5*16)\n",
    "print(x.shape)"
   ]
  },
  {
   "cell_type": "code",
   "execution_count": 14,
   "id": "dd58fe78",
   "metadata": {},
   "outputs": [],
   "source": [
    "class ConvolutionalNetwork(nn.Module):\n",
    "    def __init__(self):\n",
    "        super().__init__()\n",
    "        self.conv1 = nn.Conv2d(1, 6, 3, 1)\n",
    "        self.conv2 = nn.Conv2d(6, 16, 3, 1)\n",
    "        self.fc1 = nn.Linear(5*5*16, 120)\n",
    "        self.fc2 = nn.Linear(120, 84)\n",
    "        self.fc3 = nn.Linear(84,10)\n",
    "\n",
    "    def forward(self, X):\n",
    "        X = F.relu(self.conv1(X))\n",
    "        X = F.max_pool2d(X, 2, 2)\n",
    "        X = F.relu(self.conv2(X))\n",
    "        X = F.max_pool2d(X, 2, 2)\n",
    "        X = X.view(-1, 5*5*16)\n",
    "        X = F.relu(self.fc1(X))\n",
    "        X = F.relu(self.fc2(X))\n",
    "        X = self.fc3(X)\n",
    "        return F.log_softmax(X, dim=1)"
   ]
  },
  {
   "cell_type": "code",
   "execution_count": 15,
   "id": "5232051b",
   "metadata": {},
   "outputs": [
    {
     "data": {
      "text/plain": [
       "ConvolutionalNetwork(\n",
       "  (conv1): Conv2d(1, 6, kernel_size=(3, 3), stride=(1, 1))\n",
       "  (conv2): Conv2d(6, 16, kernel_size=(3, 3), stride=(1, 1))\n",
       "  (fc1): Linear(in_features=400, out_features=120, bias=True)\n",
       "  (fc2): Linear(in_features=120, out_features=84, bias=True)\n",
       "  (fc3): Linear(in_features=84, out_features=10, bias=True)\n",
       ")"
      ]
     },
     "execution_count": 15,
     "metadata": {},
     "output_type": "execute_result"
    }
   ],
   "source": [
    "torch.manual_seed(42)\n",
    "model = ConvolutionalNetwork()\n",
    "model"
   ]
  },
  {
   "cell_type": "code",
   "execution_count": 16,
   "id": "89f50764",
   "metadata": {},
   "outputs": [],
   "source": [
    "def count_parameters(model):\n",
    "    params = [p.numel() for p in model.parameters() if p.requires_grad]\n",
    "    for item in params:\n",
    "        print(f'{item:>6}')\n",
    "    print(f'______\\n{sum(params):>6}')"
   ]
  },
  {
   "cell_type": "code",
   "execution_count": 17,
   "id": "92f7ba5d",
   "metadata": {},
   "outputs": [
    {
     "name": "stdout",
     "output_type": "stream",
     "text": [
      "    54\n",
      "     6\n",
      "   864\n",
      "    16\n",
      " 48000\n",
      "   120\n",
      " 10080\n",
      "    84\n",
      "   840\n",
      "    10\n",
      "______\n",
      " 60074\n"
     ]
    }
   ],
   "source": [
    "count_parameters(model)"
   ]
  },
  {
   "cell_type": "code",
   "execution_count": 18,
   "id": "1ff17bb4",
   "metadata": {},
   "outputs": [],
   "source": [
    "criterion = nn.CrossEntropyLoss()\n",
    "optimizer = torch.optim.Adam(model.parameters(), lr=0.001)"
   ]
  },
  {
   "cell_type": "code",
   "execution_count": 19,
   "id": "85ea5118",
   "metadata": {},
   "outputs": [
    {
     "name": "stdout",
     "output_type": "stream",
     "text": [
      "epoch:  0  batch:  600 [  6000/60000]  loss: 0.04055625  accuracy:  78.417%\n",
      "epoch:  0  batch: 1200 [ 12000/60000]  loss: 0.08253475  accuracy:  85.800%\n",
      "epoch:  0  batch: 1800 [ 18000/60000]  loss: 0.36470500  accuracy:  88.689%\n",
      "epoch:  0  batch: 2400 [ 24000/60000]  loss: 0.01839541  accuracy:  90.525%\n",
      "epoch:  0  batch: 3000 [ 30000/60000]  loss: 0.00862627  accuracy:  91.687%\n",
      "epoch:  0  batch: 3600 [ 36000/60000]  loss: 0.00106560  accuracy:  92.511%\n",
      "epoch:  0  batch: 4200 [ 42000/60000]  loss: 0.52497274  accuracy:  93.145%\n",
      "epoch:  0  batch: 4800 [ 48000/60000]  loss: 0.02084908  accuracy:  93.612%\n",
      "epoch:  0  batch: 5400 [ 54000/60000]  loss: 0.01036021  accuracy:  94.022%\n",
      "epoch:  0  batch: 6000 [ 60000/60000]  loss: 0.03032223  accuracy:  94.350%\n",
      "epoch:  1  batch:  600 [  6000/60000]  loss: 0.01112158  accuracy:  97.767%\n",
      "epoch:  1  batch: 1200 [ 12000/60000]  loss: 0.03045325  accuracy:  97.858%\n",
      "epoch:  1  batch: 1800 [ 18000/60000]  loss: 0.00169726  accuracy:  97.917%\n",
      "epoch:  1  batch: 2400 [ 24000/60000]  loss: 0.01971560  accuracy:  97.867%\n",
      "epoch:  1  batch: 3000 [ 30000/60000]  loss: 0.20717888  accuracy:  97.900%\n",
      "epoch:  1  batch: 3600 [ 36000/60000]  loss: 0.00025157  accuracy:  97.919%\n",
      "epoch:  1  batch: 4200 [ 42000/60000]  loss: 0.00072353  accuracy:  97.964%\n",
      "epoch:  1  batch: 4800 [ 48000/60000]  loss: 0.00068607  accuracy:  97.958%\n",
      "epoch:  1  batch: 5400 [ 54000/60000]  loss: 0.00112095  accuracy:  97.985%\n",
      "epoch:  1  batch: 6000 [ 60000/60000]  loss: 0.00703867  accuracy:  97.993%\n",
      "epoch:  2  batch:  600 [  6000/60000]  loss: 0.00140087  accuracy:  98.850%\n",
      "epoch:  2  batch: 1200 [ 12000/60000]  loss: 0.00235896  accuracy:  98.708%\n",
      "epoch:  2  batch: 1800 [ 18000/60000]  loss: 0.00182254  accuracy:  98.539%\n",
      "epoch:  2  batch: 2400 [ 24000/60000]  loss: 0.00031521  accuracy:  98.575%\n",
      "epoch:  2  batch: 3000 [ 30000/60000]  loss: 0.26832965  accuracy:  98.523%\n",
      "epoch:  2  batch: 3600 [ 36000/60000]  loss: 0.02659469  accuracy:  98.528%\n",
      "epoch:  2  batch: 4200 [ 42000/60000]  loss: 0.06407403  accuracy:  98.521%\n",
      "epoch:  2  batch: 4800 [ 48000/60000]  loss: 0.00718938  accuracy:  98.535%\n",
      "epoch:  2  batch: 5400 [ 54000/60000]  loss: 0.00015791  accuracy:  98.546%\n",
      "epoch:  2  batch: 6000 [ 60000/60000]  loss: 0.00030936  accuracy:  98.533%\n",
      "epoch:  3  batch:  600 [  6000/60000]  loss: 0.00016084  accuracy:  98.883%\n",
      "epoch:  3  batch: 1200 [ 12000/60000]  loss: 0.00192238  accuracy:  98.792%\n",
      "epoch:  3  batch: 1800 [ 18000/60000]  loss: 0.00031636  accuracy:  98.817%\n",
      "epoch:  3  batch: 2400 [ 24000/60000]  loss: 0.00047525  accuracy:  98.804%\n",
      "epoch:  3  batch: 3000 [ 30000/60000]  loss: 0.17796086  accuracy:  98.807%\n",
      "epoch:  3  batch: 3600 [ 36000/60000]  loss: 0.00238426  accuracy:  98.792%\n",
      "epoch:  3  batch: 4200 [ 42000/60000]  loss: 0.00022586  accuracy:  98.840%\n",
      "epoch:  3  batch: 4800 [ 48000/60000]  loss: 0.02467949  accuracy:  98.827%\n",
      "epoch:  3  batch: 5400 [ 54000/60000]  loss: 0.00212419  accuracy:  98.811%\n",
      "epoch:  3  batch: 6000 [ 60000/60000]  loss: 0.00052627  accuracy:  98.800%\n",
      "epoch:  4  batch:  600 [  6000/60000]  loss: 0.00075553  accuracy:  99.167%\n",
      "epoch:  4  batch: 1200 [ 12000/60000]  loss: 0.13698909  accuracy:  99.100%\n",
      "epoch:  4  batch: 1800 [ 18000/60000]  loss: 0.00001266  accuracy:  99.067%\n",
      "epoch:  4  batch: 2400 [ 24000/60000]  loss: 0.00052326  accuracy:  99.054%\n",
      "epoch:  4  batch: 3000 [ 30000/60000]  loss: 0.00650042  accuracy:  99.010%\n",
      "epoch:  4  batch: 3600 [ 36000/60000]  loss: 0.00063500  accuracy:  99.025%\n",
      "epoch:  4  batch: 4200 [ 42000/60000]  loss: 0.00023384  accuracy:  99.045%\n",
      "epoch:  4  batch: 4800 [ 48000/60000]  loss: 0.00071984  accuracy:  99.037%\n",
      "epoch:  4  batch: 5400 [ 54000/60000]  loss: 0.00012177  accuracy:  99.015%\n",
      "epoch:  4  batch: 6000 [ 60000/60000]  loss: 0.00078384  accuracy:  99.017%\n",
      "\n",
      "Duration: 580 seconds\n"
     ]
    }
   ],
   "source": [
    "import time\n",
    "start_time = time.time()\n",
    "\n",
    "epochs = 5\n",
    "train_losses = []\n",
    "test_losses = []\n",
    "train_correct = []\n",
    "test_correct = []\n",
    "\n",
    "for i in range(epochs):\n",
    "    trn_corr = 0\n",
    "    tst_corr = 0\n",
    "    \n",
    "    # Run the training batches\n",
    "    for b, (X_train, y_train) in enumerate(train_loader):\n",
    "        b+=1\n",
    "        \n",
    "        # Apply the model\n",
    "        y_pred = model(X_train)  # we don't flatten X-train here\n",
    "        loss = criterion(y_pred, y_train)\n",
    " \n",
    "        # Tally the number of correct predictions\n",
    "        predicted = torch.max(y_pred.data, 1)[1]\n",
    "        batch_corr = (predicted == y_train).sum()\n",
    "        trn_corr += batch_corr\n",
    "        \n",
    "        # Update parameters\n",
    "        optimizer.zero_grad()\n",
    "        loss.backward()\n",
    "        optimizer.step()\n",
    "        \n",
    "        # Print interim results\n",
    "        if b%600 == 0:\n",
    "            print(f'epoch: {i:2}  batch: {b:4} [{10*b:6}/60000]  loss: {loss.item():10.8f}  \\\n",
    "accuracy: {trn_corr.item()*100/(10*b):7.3f}%')\n",
    "        \n",
    "    train_losses.append(loss)\n",
    "    train_correct.append(trn_corr)\n",
    "        \n",
    "    # Run the testing batches\n",
    "    with torch.no_grad():\n",
    "        for b, (X_test, y_test) in enumerate(test_loader):\n",
    "\n",
    "            # Apply the model\n",
    "            y_val = model(X_test)\n",
    "\n",
    "            # Tally the number of correct predictions\n",
    "            predicted = torch.max(y_val.data, 1)[1] \n",
    "            tst_corr += (predicted == y_test).sum()\n",
    "            \n",
    "    loss = criterion(y_val, y_test)\n",
    "    test_losses.append(loss)\n",
    "    test_correct.append(tst_corr)\n",
    "        \n",
    "print(f'\\nDuration: {time.time() - start_time:.0f} seconds') # print the time elapsed            "
   ]
  },
  {
   "cell_type": "code",
   "execution_count": 20,
   "id": "dcbb9f25",
   "metadata": {},
   "outputs": [
    {
     "data": {
      "image/png": "[encoded data removed]",
      "text/plain": [
       "<Figure size 640x480 with 1 Axes>"
      ]
     },
     "metadata": {},
     "output_type": "display_data"
    }
   ],
   "source": [
    "plt.plot([t/600 for t in train_correct], label='training accuracy')\n",
    "plt.plot([t/100 for t in test_correct], label='validation accuracy')\n",
    "plt.title('Accuracy at the end of each epoch')\n",
    "plt.legend();"
   ]
  },
  {
   "cell_type": "code",
   "execution_count": 21,
   "id": "180eeba9",
   "metadata": {},
   "outputs": [],
   "source": [
    "# Extract the data all at once, not in batches\n",
    "test_load_all = DataLoader(test_data, batch_size=10000, shuffle=False)"
   ]
  },
  {
   "cell_type": "code",
   "execution_count": 22,
   "id": "d4714b63",
   "metadata": {},
   "outputs": [
    {
     "name": "stdout",
     "output_type": "stream",
     "text": [
      "Test accuracy: 9862/10000 =  98.620%\n"
     ]
    }
   ],
   "source": [
    "with torch.no_grad():\n",
    "    correct = 0\n",
    "    for X_test, y_test in test_load_all:\n",
    "        y_val = model(X_test)  # we don't flatten the data this time\n",
    "        predicted = torch.max(y_val,1)[1]\n",
    "        correct += (predicted == y_test).sum()\n",
    "print(f'Test accuracy: {correct.item()}/{len(test_data)} = {correct.item()*100/(len(test_data)):7.3f}%')"
   ]
  },
  {
   "cell_type": "code",
   "execution_count": 23,
   "id": "a2615552",
   "metadata": {},
   "outputs": [
    {
     "name": "stdout",
     "output_type": "stream",
     "text": [
      "[[   0    1    2    3    4    5    6    7    8    9]]\n",
      "\n",
      "[[ 974    0    1    0    0    2    2    1    3    0]\n",
      " [   0 1133    4    0    0    0    2    6    0    3]\n",
      " [   1    0 1018    1    0    0    1    3    1    0]\n",
      " [   0    1    2 1001    0   11    0    2    3    2]\n",
      " [   0    0    3    0  979    0    1    3    2   19]\n",
      " [   0    0    0    3    0  873    4    0    1    4]\n",
      " [   3    1    0    0    2    3  947    0    1    1]\n",
      " [   1    0    4    2    0    1    0 1004    1    4]\n",
      " [   0    0    0    3    0    1    1    3  958    1]\n",
      " [   1    0    0    0    1    1    0    6    4  975]]\n"
     ]
    }
   ],
   "source": [
    "# print a row of values for reference\n",
    "np.set_printoptions(formatter=dict(int=lambda x: f'{x:4}'))\n",
    "print(np.arange(10).reshape(1,10))\n",
    "print()\n",
    "\n",
    "# print the confusion matrix\n",
    "print(confusion_matrix(predicted.view(-1), y_test.view(-1)))"
   ]
  },
  {
   "cell_type": "code",
   "execution_count": 24,
   "id": "54512a9a",
   "metadata": {},
   "outputs": [
    {
     "data": {
      "image/png": "[encoded data removed]",
      "text/plain": [
       "<Figure size 100x100 with 1 Axes>"
      ]
     },
     "metadata": {},
     "output_type": "display_data"
    }
   ],
   "source": [
    "x = 2019\n",
    "plt.figure(figsize=(1,1))\n",
    "plt.imshow(test_data[x][0].reshape((28,28)), cmap=\"gist_yarg\");"
   ]
  },
  {
   "cell_type": "code",
   "execution_count": 25,
   "id": "eb0824e9",
   "metadata": {},
   "outputs": [
    {
     "name": "stdout",
     "output_type": "stream",
     "text": [
      "Predicted value: 9\n"
     ]
    }
   ],
   "source": [
    "model.eval()\n",
    "with torch.no_grad():\n",
    "    new_pred = model(test_data[x][0].view(1,1,28,28)).argmax()\n",
    "print(\"Predicted value:\",new_pred.item())"
   ]
  },
  {
   "cell_type": "code",
   "execution_count": null,
   "id": "93849c84",
   "metadata": {},
   "outputs": [],
   "source": []
  }
 ],
 "metadata": {
  "kernelspec": {
   "display_name": "Python 3 (ipykernel)",
   "language": "python",
   "name": "python3"
  },
  "language_info": {
   "codemirror_mode": {
    "name": "ipython",
    "version": 3
   },
   "file_extension": ".py",
   "mimetype": "text/x-python",
   "name": "python",
   "nbconvert_exporter": "python",
   "pygments_lexer": "ipython3",
   "version": "3.9.17"
  }
 },
 "nbformat": 4,
 "nbformat_minor": 5
}
